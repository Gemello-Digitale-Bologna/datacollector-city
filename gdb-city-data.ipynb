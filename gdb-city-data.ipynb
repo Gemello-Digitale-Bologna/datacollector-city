{
 "cells": [
  {
   "cell_type": "code",
   "execution_count": 2,
   "id": "6effd0c6-c127-4499-92aa-963101c4601d",
   "metadata": {},
   "outputs": [],
   "source": [
    "import digitalhub as dh\n",
    "import os\n",
    "PROJECT_NAME = \"city-data\"\n",
    "project = dh.get_or_create_project(PROJECT_NAME)"
   ]
  },
  {
   "cell_type": "markdown",
   "id": "d7ba9323-b2bd-4fff-a494-193efd5f3e37",
   "metadata": {},
   "source": [
    "## Open Data functions"
   ]
  },
  {
   "cell_type": "code",
   "execution_count": 3,
   "id": "f9b7ab47-2d1d-449e-bbf1-43bea0861cc9",
   "metadata": {},
   "outputs": [],
   "source": [
    "new_folder ='src'\n",
    "if not os.path.exists(new_folder):\n",
    "    os.makedirs(new_folder)"
   ]
  },
  {
   "cell_type": "code",
   "execution_count": 7,
   "id": "1fb9814c-1e96-4d64-a057-986f8424eb00",
   "metadata": {},
   "outputs": [],
   "source": [
    "func_download_buildings = project.new_function(name=\"download-buildings\",\n",
    "                                               kind=\"python\",\n",
    "                                               python_version=\"PYTHON3_10\",\n",
    "                                               source={\"source\": \"src/download-open-data.py\", \"handler\": \"download_buildings\"},\n",
    "                                               requirements= [\"geopandas\"])"
   ]
  },
  {
   "cell_type": "code",
   "execution_count": 8,
   "id": "90c46404-5465-4a74-8d1d-a4c96acd6a21",
   "metadata": {},
   "outputs": [],
   "source": [
    "run_download_buildings = func_download_buildings.run(action=\"job\", parameters={'bucket': 'datalake'}, local_execution=False)"
   ]
  },
  {
   "cell_type": "code",
   "execution_count": 9,
   "id": "5135621a-e01e-4c68-87fc-334dd3081ae6",
   "metadata": {},
   "outputs": [],
   "source": [
    "func_download_addresses = project.new_function(name=\"download-addresses\",\n",
    "                                               kind=\"python\",\n",
    "                                               python_version=\"PYTHON3_10\",\n",
    "                                               source={\"source\": \"src/download-open-data.py\", \"handler\": \"download_addresses\"},\n",
    "                                               requirements= [\"geopandas\"])"
   ]
  },
  {
   "cell_type": "code",
   "execution_count": 10,
   "id": "f50cd449-9866-44c5-a492-6a019de5a2e0",
   "metadata": {},
   "outputs": [],
   "source": [
    "run_download_addresses = func_download_addresses.run(action=\"job\", parameters={'bucket': 'datalake'}, local_execution=False)"
   ]
  },
  {
   "cell_type": "code",
   "execution_count": 11,
   "id": "2ee217d7-c86d-4acb-97c9-672a2e10e954",
   "metadata": {},
   "outputs": [],
   "source": [
    "func_download_walls = project.new_function(name=\"download-walls\",\n",
    "                                               kind=\"python\",\n",
    "                                               python_version=\"PYTHON3_10\",\n",
    "                                               source={\"source\": \"src/download-open-data.py\", \"handler\": \"download_walls\"},\n",
    "                                               requirements= [\"geopandas\"])"
   ]
  },
  {
   "cell_type": "code",
   "execution_count": 12,
   "id": "78ecb3d0-0598-4e46-8d8a-5b89a74b097d",
   "metadata": {},
   "outputs": [],
   "source": [
    "run_download_walls = func_download_walls.run(action=\"job\", parameters={'bucket': 'datalake'}, local_execution=False)"
   ]
  },
  {
   "cell_type": "code",
   "execution_count": 13,
   "id": "9630c407-5f8f-4edd-bd78-2ea4db256bd7",
   "metadata": {},
   "outputs": [],
   "source": [
    "func_download_buidlings_volumes = project.new_function(name=\"download-buidlings-volumes\",\n",
    "                                               kind=\"python\",\n",
    "                                               python_version=\"PYTHON3_10\",\n",
    "                                               source={\"source\": \"src/download-open-data.py\", \"handler\": \"download_buidlings_volumes\"},\n",
    "                                               requirements= [\"geopandas\"])"
   ]
  },
  {
   "cell_type": "code",
   "execution_count": 14,
   "id": "c9223a11-f72b-4a11-b6c2-96cb47dabfa5",
   "metadata": {},
   "outputs": [],
   "source": [
    "run_download_buidlings_volumes = func_download_buidlings_volumes.run(action=\"job\", parameters={'bucket': 'datalake'}, local_execution=False)"
   ]
  },
  {
   "cell_type": "code",
   "execution_count": 15,
   "id": "f296319d-2434-4ed4-8bfb-16cd48dfce6a",
   "metadata": {},
   "outputs": [],
   "source": [
    "func_download_buildings_symbols = project.new_function(name=\"download-buildings-symbols\",\n",
    "                                               kind=\"python\",\n",
    "                                               python_version=\"PYTHON3_10\",\n",
    "                                               source={\"source\": \"src/download-open-data.py\", \"handler\": \"download_buildings_symbols\"},\n",
    "                                               requirements= [\"geopandas\"])"
   ]
  },
  {
   "cell_type": "code",
   "execution_count": 16,
   "id": "acbfb792-bc5f-4338-849e-8ea7dd87d038",
   "metadata": {},
   "outputs": [],
   "source": [
    "run_download_buildings_symbols = func_download_buildings_symbols.run(action=\"job\", parameters={'bucket': 'datalake'}, local_execution=False)"
   ]
  },
  {
   "cell_type": "code",
   "execution_count": 17,
   "id": "295ac699-db5e-428e-9bb5-a51cea0e4c53",
   "metadata": {},
   "outputs": [],
   "source": [
    "func_download_terrain = project.new_function(name=\"download-terrain\",\n",
    "                                               kind=\"python\",\n",
    "                                               python_version=\"PYTHON3_10\",\n",
    "                                               source={\"source\": \"src/download-open-data.py\", \"handler\": \"download_terrain\"},\n",
    "                                               requirements= [\"geopandas\"])"
   ]
  },
  {
   "cell_type": "code",
   "execution_count": 18,
   "id": "c6f61d7b-c8fb-4e9c-8601-34deb1806908",
   "metadata": {},
   "outputs": [],
   "source": [
    "run_download_terrain = func_download_terrain.run(action=\"job\", parameters={'bucket': 'datalake'}, local_execution=False)"
   ]
  },
  {
   "cell_type": "code",
   "execution_count": 19,
   "id": "6ed32be2-1536-439b-bab0-711d473ba0de",
   "metadata": {},
   "outputs": [],
   "source": [
    "func_download_areas = project.new_function(name=\"download-proximity-areas\",\n",
    "                                               kind=\"python\",\n",
    "                                               python_version=\"PYTHON3_10\",\n",
    "                                               source={\"source\": \"src/download-open-data.py\", \"handler\": \"download_areas\"},\n",
    "                                               requirements= [\"geopandas\"])"
   ]
  },
  {
   "cell_type": "code",
   "execution_count": 20,
   "id": "1f867ffc-145c-40dd-b6bf-34dc8981a63b",
   "metadata": {},
   "outputs": [],
   "source": [
    "run_download_areas = func_download_areas.run(action=\"job\", parameters={'bucket': 'datalake'}, local_execution=False)"
   ]
  },
  {
   "cell_type": "markdown",
   "id": "ffd1e6a6-ee79-440f-b9da-8557835e71bf",
   "metadata": {},
   "source": [
    "## Google Drive Functions"
   ]
  },
  {
   "cell_type": "markdown",
   "id": "d46fea32-0dba-44c8-b873-59e12de2ec7a",
   "metadata": {},
   "source": [
    "### Define and Build Functions: Download Traffic Spire"
   ]
  },
  {
   "cell_type": "markdown",
   "id": "bb703d25-3be5-4ebe-9ccd-7d9d6fecb646",
   "metadata": {},
   "source": [
    "#### Create Secret Token"
   ]
  },
  {
   "cell_type": "markdown",
   "id": "377e53d3-79b2-469d-a1ad-30e836dbaa22",
   "metadata": {},
   "source": [
    "In order to read the files inside Google drive directory, it is required to create secret key,value pair inside to the project. Go to the 'Secret' section of project and create a new secret name 'token' with the value of Google drive token."
   ]
  },
  {
   "cell_type": "code",
   "execution_count": 21,
   "id": "0f33a5a9-667e-4e07-8900-bd1bf834ea92",
   "metadata": {},
   "outputs": [],
   "source": [
    "project.new_secret(name=\"token\", secret_value=\"YOUR_TOKEN_VALUE\")"
   ]
  },
  {
   "cell_type": "code",
   "execution_count": 27,
   "id": "d469ffdd-7b8c-4075-9b61-45b2b4ad318b",
   "metadata": {},
   "outputs": [],
   "source": [
    "func_download_lidar = project.new_function(\n",
    "    name=\"download-lidar\",\n",
    "    kind=\"python\",\n",
    "    python_version=\"PYTHON3_10\",\n",
    "    source={\"source\": \"src/download-data.py\", \"handler\": \"get_lidar\"},\n",
    "    requirements=['google-api-python-client', 'google_auth_oauthlib']\n",
    ")"
   ]
  },
  {
   "cell_type": "code",
   "execution_count": 28,
   "id": "5e724f5e-85a0-4875-bfd7-0581029b60de",
   "metadata": {},
   "outputs": [],
   "source": [
    "#!pip install google-api-python-client"
   ]
  },
  {
   "cell_type": "code",
   "execution_count": 29,
   "id": "f773041c-2c2f-4dfa-a8a1-e94a26d7df07",
   "metadata": {},
   "outputs": [],
   "source": [
    "run_lidar = func_download_lidar.run(action=\"job\", parameters={'folder': 'LAS_CLASSIFICATO_TEST', 'bucket': 'datalake'}, local_execution=False)"
   ]
  },
  {
   "cell_type": "code",
   "execution_count": 30,
   "id": "f3a97b8c-d6aa-4278-85ea-d71736776c25",
   "metadata": {},
   "outputs": [],
   "source": [
    "func_download_dtm = project.new_function(\n",
    "    name=\"download-dtm\",\n",
    "    kind=\"python\",\n",
    "    python_version=\"PYTHON3_10\",\n",
    "    source={\"source\": \"src/download-data.py\", \"handler\": \"get_dtm\"},\n",
    "    requirements=['google-api-python-client', 'google_auth_oauthlib']\n",
    ")"
   ]
  },
  {
   "cell_type": "code",
   "execution_count": 31,
   "id": "23a7e71a-1d05-4f1e-b218-27228328dc34",
   "metadata": {},
   "outputs": [],
   "source": [
    "run_dtm = func_download_dtm.run(action=\"job\", parameters={'folder': 'DTM_0.5_TEST', 'bucket': 'datalake'}, local_execution=False)"
   ]
  },
  {
   "cell_type": "code",
   "execution_count": 32,
   "id": "1bee5f92-ac13-404e-9e24-ca6bdfac27c0",
   "metadata": {},
   "outputs": [],
   "source": [
    "func_download_dsm = project.new_function(\n",
    "    name=\"download-dsm\",\n",
    "    kind=\"python\",\n",
    "    python_version=\"PYTHON3_10\",\n",
    "    source={\"source\": \"src/download-data.py\", \"handler\": \"get_dsm\"},\n",
    "    requirements=['google-api-python-client', 'google_auth_oauthlib']\n",
    ")"
   ]
  },
  {
   "cell_type": "code",
   "execution_count": 33,
   "id": "5a4f8af4-4d77-41f9-8bc7-eabb67f804f3",
   "metadata": {},
   "outputs": [],
   "source": [
    "run_dsm = func_download_dsm.run(action=\"job\", parameters={'folder': 'DSM_0.5_TEST', 'bucket': 'datalake'}, local_execution=False)"
   ]
  }
 ],
 "metadata": {
  "kernelspec": {
   "display_name": "Python 3 (ipykernel)",
   "language": "python",
   "name": "python3"
  },
  "language_info": {
   "codemirror_mode": {
    "name": "ipython",
    "version": 3
   },
   "file_extension": ".py",
   "mimetype": "text/x-python",
   "name": "python",
   "nbconvert_exporter": "python",
   "pygments_lexer": "ipython3",
   "version": "3.10.11"
  }
 },
 "nbformat": 4,
 "nbformat_minor": 5
}
