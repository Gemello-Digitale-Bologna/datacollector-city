{
 "cells": [
  {
   "cell_type": "code",
   "execution_count": 1,
   "id": "3570329a-da5b-4b1c-97e0-b80d570a7813",
   "metadata": {
    "collapsed": true,
    "jupyter": {
     "outputs_hidden": true
    },
    "tags": []
   },
   "outputs": [
    {
     "name": "stdout",
     "output_type": "stream",
     "text": [
      "Collecting mercantile==1.2.1\n",
      "  Downloading mercantile-1.2.1-py3-none-any.whl (14 kB)\n",
      "Requirement already satisfied: osmnx in /opt/conda/lib/python3.9/site-packages (1.9.3)\n",
      "Requirement already satisfied: click>=3.0 in /opt/conda/lib/python3.9/site-packages (from mercantile==1.2.1) (8.0.4)\n",
      "Requirement already satisfied: geopandas>=0.12 in /opt/conda/lib/python3.9/site-packages (from osmnx) (0.13.2)\n",
      "Requirement already satisfied: networkx>=2.5 in /opt/conda/lib/python3.9/site-packages (from osmnx) (2.8.7)\n",
      "Requirement already satisfied: numpy>=1.20 in /opt/conda/lib/python3.9/site-packages (from osmnx) (1.22.4)\n",
      "Requirement already satisfied: pandas>=1.1 in /opt/conda/lib/python3.9/site-packages (from osmnx) (1.3.5)\n",
      "Requirement already satisfied: shapely>=2.0 in /opt/conda/lib/python3.9/site-packages (from osmnx) (2.0.4)\n",
      "Requirement already satisfied: requests>=2.27 in /opt/conda/lib/python3.9/site-packages (from osmnx) (2.31.0)\n",
      "Requirement already satisfied: pyproj>=3.0.1 in /opt/conda/lib/python3.9/site-packages (from geopandas>=0.12->osmnx) (3.6.1)\n",
      "Requirement already satisfied: packaging in /opt/conda/lib/python3.9/site-packages (from geopandas>=0.12->osmnx) (21.3)\n",
      "Requirement already satisfied: fiona>=1.8.19 in /opt/conda/lib/python3.9/site-packages (from geopandas>=0.12->osmnx) (1.9.6)\n",
      "Requirement already satisfied: python-dateutil>=2.7.3 in /opt/conda/lib/python3.9/site-packages (from pandas>=1.1->osmnx) (2.8.2)\n",
      "Requirement already satisfied: pytz>=2017.3 in /opt/conda/lib/python3.9/site-packages (from pandas>=1.1->osmnx) (2022.4)\n",
      "Requirement already satisfied: idna<4,>=2.5 in /opt/conda/lib/python3.9/site-packages (from requests>=2.27->osmnx) (3.4)\n",
      "Requirement already satisfied: charset-normalizer<4,>=2 in /opt/conda/lib/python3.9/site-packages (from requests>=2.27->osmnx) (2.1.1)\n",
      "Requirement already satisfied: certifi>=2017.4.17 in /opt/conda/lib/python3.9/site-packages (from requests>=2.27->osmnx) (2022.9.24)\n",
      "Requirement already satisfied: urllib3<3,>=1.21.1 in /opt/conda/lib/python3.9/site-packages (from requests>=2.27->osmnx) (1.26.11)\n",
      "Requirement already satisfied: importlib-metadata in /opt/conda/lib/python3.9/site-packages (from fiona>=1.8.19->geopandas>=0.12->osmnx) (4.11.4)\n",
      "Requirement already satisfied: click-plugins>=1.0 in /opt/conda/lib/python3.9/site-packages (from fiona>=1.8.19->geopandas>=0.12->osmnx) (1.1.1)\n",
      "Requirement already satisfied: cligj>=0.5 in /opt/conda/lib/python3.9/site-packages (from fiona>=1.8.19->geopandas>=0.12->osmnx) (0.7.2)\n",
      "Requirement already satisfied: six in /opt/conda/lib/python3.9/site-packages (from fiona>=1.8.19->geopandas>=0.12->osmnx) (1.16.0)\n",
      "Requirement already satisfied: attrs>=19.2.0 in /opt/conda/lib/python3.9/site-packages (from fiona>=1.8.19->geopandas>=0.12->osmnx) (22.1.0)\n",
      "Requirement already satisfied: pyparsing!=3.0.5,>=2.0.2 in /opt/conda/lib/python3.9/site-packages (from packaging->geopandas>=0.12->osmnx) (3.0.9)\n",
      "Requirement already satisfied: zipp>=0.5 in /opt/conda/lib/python3.9/site-packages (from importlib-metadata->fiona>=1.8.19->geopandas>=0.12->osmnx) (3.9.0)\n",
      "Installing collected packages: mercantile\n",
      "Successfully installed mercantile-1.2.1\n",
      "\n",
      "\u001b[1m[\u001b[0m\u001b[34;49mnotice\u001b[0m\u001b[1;39;49m]\u001b[0m\u001b[39;49m A new release of pip available: \u001b[0m\u001b[31;49m22.3.1\u001b[0m\u001b[39;49m -> \u001b[0m\u001b[32;49m24.1.2\u001b[0m\n",
      "\u001b[1m[\u001b[0m\u001b[34;49mnotice\u001b[0m\u001b[1;39;49m]\u001b[0m\u001b[39;49m To update, run: \u001b[0m\u001b[32;49mpip install --upgrade pip\u001b[0m\n",
      "Note: you may need to restart the kernel to use updated packages.\n"
     ]
    }
   ],
   "source": [
    "%pip install mercantile==1.2.1 osmnx"
   ]
  },
  {
   "cell_type": "code",
   "execution_count": 2,
   "id": "c39208ad-ed59-428c-888f-5b6934e63375",
   "metadata": {},
   "outputs": [],
   "source": [
    "import mlrun"
   ]
  },
  {
   "cell_type": "markdown",
   "id": "d8ee2c29-ac0b-4f4f-968c-f464eda3b89b",
   "metadata": {},
   "source": [
    "## Setup Project"
   ]
  },
  {
   "cell_type": "code",
   "execution_count": 3,
   "id": "14da9bf7-f7ab-4e54-8ee1-653347435618",
   "metadata": {},
   "outputs": [
    {
     "name": "stdout",
     "output_type": "stream",
     "text": [
      "> 2024-07-16 08:59:12,537 [info] Project loaded successfully: {'project_name': 'city-data'}\n"
     ]
    }
   ],
   "source": [
    "project = mlrun.get_or_create_project(\"city-data\", context=\"./\")"
   ]
  },
  {
   "cell_type": "markdown",
   "id": "d7ba9323-b2bd-4fff-a494-193efd5f3e37",
   "metadata": {},
   "source": [
    "### Open Data functions"
   ]
  },
  {
   "cell_type": "code",
   "execution_count": 5,
   "id": "b16b1728-7a5d-4f8f-b908-32307a9e780c",
   "metadata": {},
   "outputs": [
    {
     "name": "stdout",
     "output_type": "stream",
     "text": [
      "> 2024-07-16 09:04:23,695 [warning] Failed to add git metadata, ignore if path is not part of a git repo.: {'path': 'src', 'error': '/home/jovyan/work/gdb-city-data/src'}\n",
      "> 2024-07-16 09:04:23,707 [warning] Failed to add git metadata, ignore if path is not part of a git repo.: {'path': 'src', 'error': '/home/jovyan/work/gdb-city-data/src'}\n",
      "> 2024-07-16 09:04:23,717 [warning] Failed to add git metadata, ignore if path is not part of a git repo.: {'path': 'src', 'error': '/home/jovyan/work/gdb-city-data/src'}\n",
      "> 2024-07-16 09:04:23,726 [warning] Failed to add git metadata, ignore if path is not part of a git repo.: {'path': 'src', 'error': '/home/jovyan/work/gdb-city-data/src'}\n",
      "> 2024-07-16 09:04:23,735 [warning] Failed to add git metadata, ignore if path is not part of a git repo.: {'path': 'src', 'error': '/home/jovyan/work/gdb-city-data/src'}\n",
      "> 2024-07-16 09:04:23,744 [warning] Failed to add git metadata, ignore if path is not part of a git repo.: {'path': 'src', 'error': '/home/jovyan/work/gdb-city-data/src'}\n",
      "> 2024-07-16 09:04:23,753 [warning] Failed to add git metadata, ignore if path is not part of a git repo.: {'path': 'src', 'error': '/home/jovyan/work/gdb-city-data/src'}\n",
      "> 2024-07-16 09:04:23,762 [warning] Failed to add git metadata, ignore if path is not part of a git repo.: {'path': 'src', 'error': '/home/jovyan/work/gdb-city-data/src'}\n"
     ]
    },
    {
     "data": {
      "text/plain": [
       "<mlrun.projects.project.MlrunProject at 0x7f923d9fdcd0>"
      ]
     },
     "execution_count": 5,
     "metadata": {},
     "output_type": "execute_result"
    }
   ],
   "source": [
    "project.set_function(\"src/download-open-data.py\", name=\"download-buildings\", kind=\"job\", image=\"mlrun/mlrun\", handler=\"download_buildings\", requirements=[\"geopandas==0.13.2\"])\n",
    "project.set_function(\"src/download-open-data.py\", name=\"download-addresses\", kind=\"job\", image=\"mlrun/mlrun\", handler=\"download_addresses\", requirements=[\"geopandas==0.13.2\"])\n",
    "project.set_function(\"src/download-open-data.py\", name=\"download-walls\", kind=\"job\", image=\"mlrun/mlrun\", handler=\"download_walls\", requirements=[\"geopandas==0.13.2\"])\n",
    "project.set_function(\"src/download-open-data.py\", name=\"download-buidlings-volumes\", kind=\"job\", image=\"mlrun/mlrun\", handler=\"download_buidlings_volumes\", requirements=[\"geopandas==0.13.2\"])\n",
    "project.set_function(\"src/download-open-data.py\", name=\"download-buildings-symbols\", kind=\"job\", image=\"mlrun/mlrun\", handler=\"download_buildings_symbols\", requirements=[\"geopandas==0.13.2\"])\n",
    "project.set_function(\"src/download-open-data.py\", name=\"download-terrain\", kind=\"job\", image=\"mlrun/mlrun\", handler=\"download_terrain\", requirements=[\"geopandas==0.13.2\"])\n",
    "project.set_function(\"src/download-open-data.py\", name=\"download-proximity-areas\", kind=\"job\", image=\"mlrun/mlrun\", handler=\"download_areas\", requirements=[\"geopandas==0.13.2\"])\n",
    "project.set_function(\"src/share-data.py\", name=\"share\", kind=\"job\", image=\"mlrun/mlrun\", handler=\"share_files\")\n",
    "project.save()\n"
   ]
  },
  {
   "cell_type": "markdown",
   "id": "6999d887-0771-4cb9-9b36-3c7213f69154",
   "metadata": {},
   "source": [
    "Run functions locally:"
   ]
  },
  {
   "cell_type": "code",
   "execution_count": null,
   "id": "a5878622-bef1-4a2f-a2b6-f9fe31ea83a5",
   "metadata": {},
   "outputs": [],
   "source": [
    "project.run_function(\"download-buildings\", local=True)\n",
    "project.run_function(\"download-addresses\", local=True)\n",
    "project.run_function(\"download-walls\", local=True)\n",
    "project.run_function(\"download-buidlings-volumes\", local=True)\n",
    "project.run_function(\"download-buildings-symbols\", local=True)\n",
    "project.run_function(\"download-terrain\", local=True)\n",
    "project.run_function(\"download-proximity-areas\", local=True)"
   ]
  },
  {
   "cell_type": "markdown",
   "id": "df8f4a40-1a1f-4657-95a8-375ca7cfc22b",
   "metadata": {},
   "source": [
    "Share data with dataspace:"
   ]
  },
  {
   "cell_type": "code",
   "execution_count": null,
   "id": "d1c2a60d-6991-4015-8494-8b26394946c1",
   "metadata": {},
   "outputs": [],
   "source": [
    "project.run_function(\"share\", inputs={\"bucket\": \"dataspace\", \"path\":\"city-data\"}, local=True)"
   ]
  },
  {
   "cell_type": "markdown",
   "id": "1d46affc-9e0d-43e1-a9c0-75372996840f",
   "metadata": {},
   "source": [
    "### LiDAR Data functions"
   ]
  },
  {
   "cell_type": "code",
   "execution_count": 6,
   "id": "2a6b9041-3817-4489-a341-7b6e101c4419",
   "metadata": {},
   "outputs": [
    {
     "name": "stdout",
     "output_type": "stream",
     "text": [
      "> 2024-07-16 09:04:47,170 [warning] Failed to add git metadata, ignore if path is not part of a git repo.: {'path': 'src', 'error': '/home/jovyan/work/gdb-city-data/src'}\n",
      "> 2024-07-16 09:04:47,193 [warning] Failed to add git metadata, ignore if path is not part of a git repo.: {'path': 'src', 'error': '/home/jovyan/work/gdb-city-data/src'}\n",
      "> 2024-07-16 09:04:47,214 [warning] Failed to add git metadata, ignore if path is not part of a git repo.: {'path': 'src', 'error': '/home/jovyan/work/gdb-city-data/src'}\n"
     ]
    },
    {
     "data": {
      "text/plain": [
       "<mlrun.projects.project.MlrunProject at 0x7f923d9fdcd0>"
      ]
     },
     "execution_count": 6,
     "metadata": {},
     "output_type": "execute_result"
    }
   ],
   "source": [
    "project.set_function(\"src/download-data.py\", name=\"download-lidar\", kind=\"job\", image=\"mlrun/mlrun\", handler=\"get_lidar\")\n",
    "project.set_function(\"src/download-data.py\", name=\"download-dtm\", kind=\"job\", image=\"mlrun/mlrun\", handler=\"get_dtm\")\n",
    "project.set_function(\"src/download-data.py\", name=\"download-dsm\", kind=\"job\", image=\"mlrun/mlrun\", handler=\"get_dsm\")\n",
    "project.save()"
   ]
  },
  {
   "cell_type": "markdown",
   "id": "0caf68b7-4c7f-452a-b1f5-6b2bfa42891f",
   "metadata": {},
   "source": [
    "Set the google token:"
   ]
  },
  {
   "cell_type": "code",
   "execution_count": null,
   "id": "e437e302-1292-4361-8f1f-9ee7cb4a69f3",
   "metadata": {},
   "outputs": [],
   "source": [
    "import os\n",
    "os.environ['GOOGLE_TOKEN'] = '<GOOGLE_TOKEN_JSON>' # for local execution\n",
    "project.set_secrets({\"GOOGLE_TOKEN\": os.environ['GOOGLE_TOKEN']}) # for remote execution"
   ]
  },
  {
   "cell_type": "markdown",
   "id": "c7703d52-3a17-4d19-b9a7-f06b8dc9df64",
   "metadata": {},
   "source": [
    "Run functions locally:"
   ]
  },
  {
   "cell_type": "code",
   "execution_count": null,
   "id": "8d174645-495b-4b45-9862-9fc8a784a4df",
   "metadata": {},
   "outputs": [],
   "source": [
    "project.run_function(\"download-lidar\", local=True)"
   ]
  },
  {
   "cell_type": "code",
   "execution_count": null,
   "id": "6bcabe79-f108-41c9-8845-5b536c4c1b85",
   "metadata": {},
   "outputs": [],
   "source": [
    "project.run_function(\"download-dtm\", local=True)"
   ]
  },
  {
   "cell_type": "code",
   "execution_count": null,
   "id": "e2964e6c-c633-404f-af9b-889abedf3372",
   "metadata": {},
   "outputs": [],
   "source": [
    "project.run_function(\"download-dsm\", local=True)"
   ]
  },
  {
   "cell_type": "markdown",
   "id": "c395a374-58fa-4d2c-9c76-1e6df96bdd1e",
   "metadata": {},
   "source": [
    "### Ortofoto functions"
   ]
  },
  {
   "cell_type": "code",
   "execution_count": 30,
   "id": "812854b7-189d-4fe1-93f3-5567b25c99c7",
   "metadata": {},
   "outputs": [
    {
     "name": "stdout",
     "output_type": "stream",
     "text": [
      "> 2024-07-16 09:47:57,266 [warning] Failed to add git metadata, ignore if path is not part of a git repo.: {'path': 'src', 'error': '/home/jovyan/work/gdb-city-data/src'}\n",
      "> 2024-07-16 09:47:57,282 [warning] Failed to add git metadata, ignore if path is not part of a git repo.: {'path': 'src', 'error': '/home/jovyan/work/gdb-city-data/src'}\n"
     ]
    },
    {
     "data": {
      "text/plain": [
       "<mlrun.projects.project.MlrunProject at 0x7f923d9fdcd0>"
      ]
     },
     "execution_count": 30,
     "metadata": {},
     "output_type": "execute_result"
    }
   ],
   "source": [
    "project.set_function(\"src/download-ortofoto-data.py\", name=\"download-ortofoto-tiles\", kind=\"job\", image=\"python:3.9\", handler=\"get_ortofoto\", requirements=[\"osmnx==1.9.2\", \"mercantile==1.2.1\"])\n",
    "project.set_function(\"src/download-data.py\", name=\"download-ortofoto\", kind=\"job\", image=\"python:3.9\", handler=\"get_ortofoto_tiff\")\n",
    "project.save()"
   ]
  },
  {
   "cell_type": "code",
   "execution_count": null,
   "id": "da013e23-11d5-438b-b933-d38cd63d9a08",
   "metadata": {
    "tags": []
   },
   "outputs": [
    {
     "name": "stdout",
     "output_type": "stream",
     "text": [
      "> 2024-07-16 09:47:58,814 [warning] it is recommended to use k8s secret (specify secret_name), specifying the aws_access_key/aws_secret_key directly is unsafe\n",
      "> 2024-07-16 09:47:58,853 [info] Storing function: {'name': 'download-ortofoto-get-ortofoto-tiff', 'uid': '0d57a17f93c041c395cfd91a78c43e72', 'db': 'http://mlrun-api:8080'}\n",
      "RETTIFICHE_TIFF_RGBN_ETRF2000\n",
      "RDN2008_GEOTIFF\n",
      "Downloading file 32_69204934_3.tfw...\n",
      "Downloading file 32_69204934_3.tif...\n"
     ]
    }
   ],
   "source": [
    "project.run_function(\"download-ortofoto\", local=True)"
   ]
  }
 ],
 "metadata": {
  "kernelspec": {
   "display_name": "Python 3 (ipykernel)",
   "language": "python",
   "name": "python3"
  },
  "language_info": {
   "codemirror_mode": {
    "name": "ipython",
    "version": 3
   },
   "file_extension": ".py",
   "mimetype": "text/x-python",
   "name": "python",
   "nbconvert_exporter": "python",
   "pygments_lexer": "ipython3",
   "version": "3.9.13"
  }
 },
 "nbformat": 4,
 "nbformat_minor": 5
}
